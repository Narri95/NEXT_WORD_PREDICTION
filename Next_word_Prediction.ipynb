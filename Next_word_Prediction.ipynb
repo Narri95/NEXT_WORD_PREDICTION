{
  "nbformat": 4,
  "nbformat_minor": 0,
  "metadata": {
    "colab": {
      "provenance": [],
      "gpuType": "T4",
      "authorship_tag": "ABX9TyObPI6HZjTrGPftmTKtwLQF",
      "include_colab_link": true
    },
    "kernelspec": {
      "name": "python3",
      "display_name": "Python 3"
    },
    "language_info": {
      "name": "python"
    },
    "accelerator": "GPU"
  },
  "cells": [
    {
      "cell_type": "markdown",
      "metadata": {
        "id": "view-in-github",
        "colab_type": "text"
      },
      "source": [
        "<a href=\"https://colab.research.google.com/github/Narri95/NEXT_WORD_PREDICTION/blob/main/Next_word_Prediction.ipynb\" target=\"_parent\"><img src=\"https://colab.research.google.com/assets/colab-badge.svg\" alt=\"Open In Colab\"/></a>"
      ]
    },
    {
      "cell_type": "code",
      "execution_count": 2,
      "metadata": {
        "id": "jGAZTon5i7Jl"
      },
      "outputs": [],
      "source": [
        "import tensorflow as tf\n",
        "from tensorflow.keras.preprocessing.text import Tokenizer\n",
        "from tensorflow.keras.layers import Embedding, LSTM, Dense\n",
        "from tensorflow.keras.models import Sequential\n",
        "from tensorflow.keras.utils import to_categorical\n",
        "from tensorflow.keras.optimizers import Adam\n",
        "import pickle\n",
        "import numpy as np\n",
        "import os"
      ]
    },
    {
      "cell_type": "code",
      "source": [
        "from google.colab import files\n",
        "uploaded=files.upload()"
      ],
      "metadata": {
        "colab": {
          "base_uri": "https://localhost:8080/",
          "height": 73
        },
        "id": "qGJEfa6YkJCi",
        "outputId": "0692cde3-87be-4c7d-f3fb-b7d57b84a5ac"
      },
      "execution_count": 3,
      "outputs": [
        {
          "output_type": "display_data",
          "data": {
            "text/plain": [
              "<IPython.core.display.HTML object>"
            ],
            "text/html": [
              "\n",
              "     <input type=\"file\" id=\"files-6d39a552-1005-4c23-8d35-39db995576b6\" name=\"files[]\" multiple disabled\n",
              "        style=\"border:none\" />\n",
              "     <output id=\"result-6d39a552-1005-4c23-8d35-39db995576b6\">\n",
              "      Upload widget is only available when the cell has been executed in the\n",
              "      current browser session. Please rerun this cell to enable.\n",
              "      </output>\n",
              "      <script>// Copyright 2017 Google LLC\n",
              "//\n",
              "// Licensed under the Apache License, Version 2.0 (the \"License\");\n",
              "// you may not use this file except in compliance with the License.\n",
              "// You may obtain a copy of the License at\n",
              "//\n",
              "//      http://www.apache.org/licenses/LICENSE-2.0\n",
              "//\n",
              "// Unless required by applicable law or agreed to in writing, software\n",
              "// distributed under the License is distributed on an \"AS IS\" BASIS,\n",
              "// WITHOUT WARRANTIES OR CONDITIONS OF ANY KIND, either express or implied.\n",
              "// See the License for the specific language governing permissions and\n",
              "// limitations under the License.\n",
              "\n",
              "/**\n",
              " * @fileoverview Helpers for google.colab Python module.\n",
              " */\n",
              "(function(scope) {\n",
              "function span(text, styleAttributes = {}) {\n",
              "  const element = document.createElement('span');\n",
              "  element.textContent = text;\n",
              "  for (const key of Object.keys(styleAttributes)) {\n",
              "    element.style[key] = styleAttributes[key];\n",
              "  }\n",
              "  return element;\n",
              "}\n",
              "\n",
              "// Max number of bytes which will be uploaded at a time.\n",
              "const MAX_PAYLOAD_SIZE = 100 * 1024;\n",
              "\n",
              "function _uploadFiles(inputId, outputId) {\n",
              "  const steps = uploadFilesStep(inputId, outputId);\n",
              "  const outputElement = document.getElementById(outputId);\n",
              "  // Cache steps on the outputElement to make it available for the next call\n",
              "  // to uploadFilesContinue from Python.\n",
              "  outputElement.steps = steps;\n",
              "\n",
              "  return _uploadFilesContinue(outputId);\n",
              "}\n",
              "\n",
              "// This is roughly an async generator (not supported in the browser yet),\n",
              "// where there are multiple asynchronous steps and the Python side is going\n",
              "// to poll for completion of each step.\n",
              "// This uses a Promise to block the python side on completion of each step,\n",
              "// then passes the result of the previous step as the input to the next step.\n",
              "function _uploadFilesContinue(outputId) {\n",
              "  const outputElement = document.getElementById(outputId);\n",
              "  const steps = outputElement.steps;\n",
              "\n",
              "  const next = steps.next(outputElement.lastPromiseValue);\n",
              "  return Promise.resolve(next.value.promise).then((value) => {\n",
              "    // Cache the last promise value to make it available to the next\n",
              "    // step of the generator.\n",
              "    outputElement.lastPromiseValue = value;\n",
              "    return next.value.response;\n",
              "  });\n",
              "}\n",
              "\n",
              "/**\n",
              " * Generator function which is called between each async step of the upload\n",
              " * process.\n",
              " * @param {string} inputId Element ID of the input file picker element.\n",
              " * @param {string} outputId Element ID of the output display.\n",
              " * @return {!Iterable<!Object>} Iterable of next steps.\n",
              " */\n",
              "function* uploadFilesStep(inputId, outputId) {\n",
              "  const inputElement = document.getElementById(inputId);\n",
              "  inputElement.disabled = false;\n",
              "\n",
              "  const outputElement = document.getElementById(outputId);\n",
              "  outputElement.innerHTML = '';\n",
              "\n",
              "  const pickedPromise = new Promise((resolve) => {\n",
              "    inputElement.addEventListener('change', (e) => {\n",
              "      resolve(e.target.files);\n",
              "    });\n",
              "  });\n",
              "\n",
              "  const cancel = document.createElement('button');\n",
              "  inputElement.parentElement.appendChild(cancel);\n",
              "  cancel.textContent = 'Cancel upload';\n",
              "  const cancelPromise = new Promise((resolve) => {\n",
              "    cancel.onclick = () => {\n",
              "      resolve(null);\n",
              "    };\n",
              "  });\n",
              "\n",
              "  // Wait for the user to pick the files.\n",
              "  const files = yield {\n",
              "    promise: Promise.race([pickedPromise, cancelPromise]),\n",
              "    response: {\n",
              "      action: 'starting',\n",
              "    }\n",
              "  };\n",
              "\n",
              "  cancel.remove();\n",
              "\n",
              "  // Disable the input element since further picks are not allowed.\n",
              "  inputElement.disabled = true;\n",
              "\n",
              "  if (!files) {\n",
              "    return {\n",
              "      response: {\n",
              "        action: 'complete',\n",
              "      }\n",
              "    };\n",
              "  }\n",
              "\n",
              "  for (const file of files) {\n",
              "    const li = document.createElement('li');\n",
              "    li.append(span(file.name, {fontWeight: 'bold'}));\n",
              "    li.append(span(\n",
              "        `(${file.type || 'n/a'}) - ${file.size} bytes, ` +\n",
              "        `last modified: ${\n",
              "            file.lastModifiedDate ? file.lastModifiedDate.toLocaleDateString() :\n",
              "                                    'n/a'} - `));\n",
              "    const percent = span('0% done');\n",
              "    li.appendChild(percent);\n",
              "\n",
              "    outputElement.appendChild(li);\n",
              "\n",
              "    const fileDataPromise = new Promise((resolve) => {\n",
              "      const reader = new FileReader();\n",
              "      reader.onload = (e) => {\n",
              "        resolve(e.target.result);\n",
              "      };\n",
              "      reader.readAsArrayBuffer(file);\n",
              "    });\n",
              "    // Wait for the data to be ready.\n",
              "    let fileData = yield {\n",
              "      promise: fileDataPromise,\n",
              "      response: {\n",
              "        action: 'continue',\n",
              "      }\n",
              "    };\n",
              "\n",
              "    // Use a chunked sending to avoid message size limits. See b/62115660.\n",
              "    let position = 0;\n",
              "    do {\n",
              "      const length = Math.min(fileData.byteLength - position, MAX_PAYLOAD_SIZE);\n",
              "      const chunk = new Uint8Array(fileData, position, length);\n",
              "      position += length;\n",
              "\n",
              "      const base64 = btoa(String.fromCharCode.apply(null, chunk));\n",
              "      yield {\n",
              "        response: {\n",
              "          action: 'append',\n",
              "          file: file.name,\n",
              "          data: base64,\n",
              "        },\n",
              "      };\n",
              "\n",
              "      let percentDone = fileData.byteLength === 0 ?\n",
              "          100 :\n",
              "          Math.round((position / fileData.byteLength) * 100);\n",
              "      percent.textContent = `${percentDone}% done`;\n",
              "\n",
              "    } while (position < fileData.byteLength);\n",
              "  }\n",
              "\n",
              "  // All done.\n",
              "  yield {\n",
              "    response: {\n",
              "      action: 'complete',\n",
              "    }\n",
              "  };\n",
              "}\n",
              "\n",
              "scope.google = scope.google || {};\n",
              "scope.google.colab = scope.google.colab || {};\n",
              "scope.google.colab._files = {\n",
              "  _uploadFiles,\n",
              "  _uploadFilesContinue,\n",
              "};\n",
              "})(self);\n",
              "</script> "
            ]
          },
          "metadata": {}
        },
        {
          "output_type": "stream",
          "name": "stdout",
          "text": [
            "Saving pg.txt to pg.txt\n"
          ]
        }
      ]
    },
    {
      "cell_type": "code",
      "source": [],
      "metadata": {
        "id": "lR5mm_-8fog1"
      },
      "execution_count": 2,
      "outputs": []
    },
    {
      "cell_type": "code",
      "source": [
        "file=open('pg.txt', 'r', encoding='utf8')\n",
        "\n",
        "#store file in list\n",
        "lines=[]\n",
        "for i in file:\n",
        "  lines.append(i)\n",
        "\n",
        "data=\"\"\n",
        "for i in lines:\n",
        "  data=' '.join(lines)\n",
        "\n",
        "## replacing unnecessary stuff with space\n",
        "data=data.replace('\\n', '').replace('\\r', '').replace('\\ufeff','').replace('\"','').replace('\"','')\n",
        "\n",
        "##remove unnecessory spaces\n",
        "data=data.split()\n",
        "data=' '. join(data)\n",
        "data[:500]"
      ],
      "metadata": {
        "colab": {
          "base_uri": "https://localhost:8080/",
          "height": 70
        },
        "id": "QOZkFE51kahM",
        "outputId": "0d04509b-2228-4d91-86bd-b5620a4f809f"
      },
      "execution_count": 4,
      "outputs": [
        {
          "output_type": "execute_result",
          "data": {
            "text/plain": [
              "'The Project Gutenberg eBook of Pride and prejudice, by Jane Austen This eBook is for the use of anyone anywhere in the United States and most other parts of the world at no cost and with almost no restrictions whatsoever. You may copy it, give it away or re-use it under the terms of the Project Gutenberg License included with this eBook or online at www.gutenberg.org. If you are not located in the United States, you will have to check the laws of the country where you are located before using th'"
            ],
            "application/vnd.google.colaboratory.intrinsic+json": {
              "type": "string"
            }
          },
          "metadata": {},
          "execution_count": 4
        }
      ]
    },
    {
      "cell_type": "code",
      "source": [
        "##Applying tokenization\n",
        "tokenizer=Tokenizer()\n",
        "tokenizer.fit_on_texts([data])\n",
        "#saving the tokenizer for predict funtiion\n",
        "pickle.dump(tokenizer, open('token.pkl', 'wb'))\n",
        "\n",
        "sequence_data= tokenizer.texts_to_sequences([data])[0]\n",
        "sequence_data[:15]"
      ],
      "metadata": {
        "colab": {
          "base_uri": "https://localhost:8080/"
        },
        "id": "B_hwbYnGkSGk",
        "outputId": "bb5299a1-31b1-453a-80df-f9b24cc1db3a"
      },
      "execution_count": 5,
      "outputs": [
        {
          "output_type": "execute_result",
          "data": {
            "text/plain": [
              "[1, 182, 163, 1030, 3, 305, 4, 975, 30, 73, 726, 42, 1030, 24, 22]"
            ]
          },
          "metadata": {},
          "execution_count": 5
        }
      ]
    },
    {
      "cell_type": "code",
      "source": [
        " len(sequence_data)"
      ],
      "metadata": {
        "colab": {
          "base_uri": "https://localhost:8080/"
        },
        "id": "LXZ-XTwltojy",
        "outputId": "35429c4a-9ca0-4612-914f-6b46a1cb76ec"
      },
      "execution_count": 6,
      "outputs": [
        {
          "output_type": "execute_result",
          "data": {
            "text/plain": [
              "133008"
            ]
          },
          "metadata": {},
          "execution_count": 6
        }
      ]
    },
    {
      "cell_type": "code",
      "source": [
        "vocab_size=len(tokenizer.word_index)+1\n",
        "print(vocab_size)"
      ],
      "metadata": {
        "colab": {
          "base_uri": "https://localhost:8080/"
        },
        "id": "IH50TFwbuEXA",
        "outputId": "bdbb81c8-fa46-46b0-fa70-cd53fff857a6"
      },
      "execution_count": 7,
      "outputs": [
        {
          "output_type": "stream",
          "name": "stdout",
          "text": [
            "7545\n"
          ]
        }
      ]
    },
    {
      "cell_type": "code",
      "source": [
        "sequences=[]\n",
        "\n",
        "for i in range(3, len(sequence_data)):\n",
        "  words=sequence_data[i-3:i+1]\n",
        "  sequences.append(words)\n",
        "print(\"the length of sequences are:\", len(sequences))\n",
        "sequences=np.array(sequences)\n",
        "sequences[:10]"
      ],
      "metadata": {
        "colab": {
          "base_uri": "https://localhost:8080/"
        },
        "id": "OoBSeGEMv_aK",
        "outputId": "24e95bbc-19f4-4cba-d6c4-dd93fc84757a"
      },
      "execution_count": 8,
      "outputs": [
        {
          "output_type": "stream",
          "name": "stdout",
          "text": [
            "the length of sequences are: 133005\n"
          ]
        },
        {
          "output_type": "execute_result",
          "data": {
            "text/plain": [
              "array([[   1,  182,  163, 1030],\n",
              "       [ 182,  163, 1030,    3],\n",
              "       [ 163, 1030,    3,  305],\n",
              "       [1030,    3,  305,    4],\n",
              "       [   3,  305,    4,  975],\n",
              "       [ 305,    4,  975,   30],\n",
              "       [   4,  975,   30,   73],\n",
              "       [ 975,   30,   73,  726],\n",
              "       [  30,   73,  726,   42],\n",
              "       [  73,  726,   42, 1030]])"
            ]
          },
          "metadata": {},
          "execution_count": 8
        }
      ]
    },
    {
      "cell_type": "code",
      "source": [
        "X=[]\n",
        "y=[]\n",
        "\n",
        "for i in sequences:\n",
        "  X.append(i[0:3])\n",
        "  y.append(i[3])\n",
        "\n",
        "X=np.array(X)\n",
        "y=np.array(y)"
      ],
      "metadata": {
        "id": "8icdNMhVwysX"
      },
      "execution_count": 9,
      "outputs": []
    },
    {
      "cell_type": "code",
      "source": [
        "print('data:', X[:10])\n",
        "print('Response:',y[:10])"
      ],
      "metadata": {
        "colab": {
          "base_uri": "https://localhost:8080/"
        },
        "id": "UJ4uO_7Cxvkn",
        "outputId": "e2657fb5-c716-4ddb-e535-1918e6312196"
      },
      "execution_count": 10,
      "outputs": [
        {
          "output_type": "stream",
          "name": "stdout",
          "text": [
            "data: [[   1  182  163]\n",
            " [ 182  163 1030]\n",
            " [ 163 1030    3]\n",
            " [1030    3  305]\n",
            " [   3  305    4]\n",
            " [ 305    4  975]\n",
            " [   4  975   30]\n",
            " [ 975   30   73]\n",
            " [  30   73  726]\n",
            " [  73  726   42]]\n",
            "Response: [1030    3  305    4  975   30   73  726   42 1030]\n"
          ]
        }
      ]
    },
    {
      "cell_type": "code",
      "source": [
        " y=to_categorical(y, num_classes=vocab_size)\n",
        " y[:8]"
      ],
      "metadata": {
        "colab": {
          "base_uri": "https://localhost:8080/"
        },
        "id": "hFEKnr-Xx9yG",
        "outputId": "6325ed61-c2ea-4450-faaa-99a295efdb18"
      },
      "execution_count": 11,
      "outputs": [
        {
          "output_type": "execute_result",
          "data": {
            "text/plain": [
              "array([[0., 0., 0., ..., 0., 0., 0.],\n",
              "       [0., 0., 0., ..., 0., 0., 0.],\n",
              "       [0., 0., 0., ..., 0., 0., 0.],\n",
              "       ...,\n",
              "       [0., 0., 0., ..., 0., 0., 0.],\n",
              "       [0., 0., 0., ..., 0., 0., 0.],\n",
              "       [0., 0., 0., ..., 0., 0., 0.]], dtype=float32)"
            ]
          },
          "metadata": {},
          "execution_count": 11
        }
      ]
    },
    {
      "cell_type": "code",
      "source": [
        "## creating model\n",
        "\n",
        "model=Sequential()\n",
        "model.add(Embedding(vocab_size, 10, input_length=3))\n",
        "model.add(LSTM(1000, return_sequences=True))\n",
        "model.add(LSTM(1000))\n",
        "model.add(Dense(1000, activation='relu'))\n",
        "model.add(Dense(vocab_size, activation='softmax'))"
      ],
      "metadata": {
        "id": "XE3lFEDuyUPm"
      },
      "execution_count": 12,
      "outputs": []
    },
    {
      "cell_type": "code",
      "source": [
        "model.summary()\n"
      ],
      "metadata": {
        "colab": {
          "base_uri": "https://localhost:8080/"
        },
        "id": "a9xx0IFAzQ4Y",
        "outputId": "c82e3c64-6a45-4042-ff18-c383f91a97e7"
      },
      "execution_count": 13,
      "outputs": [
        {
          "output_type": "stream",
          "name": "stdout",
          "text": [
            "Model: \"sequential\"\n",
            "_________________________________________________________________\n",
            " Layer (type)                Output Shape              Param #   \n",
            "=================================================================\n",
            " embedding (Embedding)       (None, 3, 10)             75450     \n",
            "                                                                 \n",
            " lstm (LSTM)                 (None, 3, 1000)           4044000   \n",
            "                                                                 \n",
            " lstm_1 (LSTM)               (None, 1000)              8004000   \n",
            "                                                                 \n",
            " dense (Dense)               (None, 1000)              1001000   \n",
            "                                                                 \n",
            " dense_1 (Dense)             (None, 7545)              7552545   \n",
            "                                                                 \n",
            "=================================================================\n",
            "Total params: 20,676,995\n",
            "Trainable params: 20,676,995\n",
            "Non-trainable params: 0\n",
            "_________________________________________________________________\n"
          ]
        }
      ]
    },
    {
      "cell_type": "code",
      "source": [
        "##build our model\n",
        "\n",
        "from tensorflow.keras.callbacks import ModelCheckpoint\n",
        "\n",
        "\n",
        "checkpoint=ModelCheckpoint('next_words.h5', monitor='loss', verbose=1, save_best_only=True)\n",
        "model.compile(loss=\"categorical_crossentropy\", optimizer=Adam(learning_rate=0.001))\n",
        "model.fit(X,y, epochs=10, batch_size=64, callbacks=[checkpoint])"
      ],
      "metadata": {
        "colab": {
          "base_uri": "https://localhost:8080/"
        },
        "id": "GFeQm2-Lz1Y1",
        "outputId": "83e91296-8141-4bf8-dd69-9b40a024c6e5"
      },
      "execution_count": 14,
      "outputs": [
        {
          "output_type": "stream",
          "name": "stdout",
          "text": [
            "Epoch 1/10\n",
            "2079/2079 [==============================] - ETA: 0s - loss: 6.2762\n",
            "Epoch 1: loss improved from inf to 6.27625, saving model to next_words.h5\n",
            "2079/2079 [==============================] - 46s 18ms/step - loss: 6.2762\n",
            "Epoch 2/10\n",
            "2079/2079 [==============================] - ETA: 0s - loss: 5.6432\n",
            "Epoch 2: loss improved from 6.27625 to 5.64316, saving model to next_words.h5\n",
            "2079/2079 [==============================] - 31s 15ms/step - loss: 5.6432\n",
            "Epoch 3/10\n",
            "2079/2079 [==============================] - ETA: 0s - loss: 5.2868\n",
            "Epoch 3: loss improved from 5.64316 to 5.28676, saving model to next_words.h5\n",
            "2079/2079 [==============================] - 31s 15ms/step - loss: 5.2868\n",
            "Epoch 4/10\n",
            "2078/2079 [============================>.] - ETA: 0s - loss: 5.0364\n",
            "Epoch 4: loss improved from 5.28676 to 5.03627, saving model to next_words.h5\n",
            "2079/2079 [==============================] - 30s 15ms/step - loss: 5.0363\n",
            "Epoch 5/10\n",
            "2078/2079 [============================>.] - ETA: 0s - loss: 4.8191\n",
            "Epoch 5: loss improved from 5.03627 to 4.81909, saving model to next_words.h5\n",
            "2079/2079 [==============================] - 31s 15ms/step - loss: 4.8191\n",
            "Epoch 6/10\n",
            "2079/2079 [==============================] - ETA: 0s - loss: 4.6151\n",
            "Epoch 6: loss improved from 4.81909 to 4.61512, saving model to next_words.h5\n",
            "2079/2079 [==============================] - 31s 15ms/step - loss: 4.6151\n",
            "Epoch 7/10\n",
            "2079/2079 [==============================] - ETA: 0s - loss: 4.4136\n",
            "Epoch 7: loss improved from 4.61512 to 4.41359, saving model to next_words.h5\n",
            "2079/2079 [==============================] - 32s 16ms/step - loss: 4.4136\n",
            "Epoch 8/10\n",
            "2079/2079 [==============================] - ETA: 0s - loss: 4.2076\n",
            "Epoch 8: loss improved from 4.41359 to 4.20765, saving model to next_words.h5\n",
            "2079/2079 [==============================] - 32s 15ms/step - loss: 4.2076\n",
            "Epoch 9/10\n",
            "2077/2079 [============================>.] - ETA: 0s - loss: 3.9952\n",
            "Epoch 9: loss improved from 4.20765 to 3.99519, saving model to next_words.h5\n",
            "2079/2079 [==============================] - 32s 15ms/step - loss: 3.9952\n",
            "Epoch 10/10\n",
            "2079/2079 [==============================] - ETA: 0s - loss: 3.7783\n",
            "Epoch 10: loss improved from 3.99519 to 3.77829, saving model to next_words.h5\n",
            "2079/2079 [==============================] - 32s 15ms/step - loss: 3.7783\n"
          ]
        },
        {
          "output_type": "execute_result",
          "data": {
            "text/plain": [
              "<keras.callbacks.History at 0x7fd28f196230>"
            ]
          },
          "metadata": {},
          "execution_count": 14
        }
      ]
    },
    {
      "cell_type": "code",
      "source": [
        "from tensorflow.keras.models import load_model\n",
        "import numpy as np\n",
        "import pickle\n",
        "\n",
        "def Predict_Next_Words(model, tokenizer, text, num_words=5):\n",
        "    sequence = tokenizer.texts_to_sequences([text])\n",
        "    sequences = np.array(sequence)\n",
        "    preds = np.argsort(model.predict(sequences), axis=1)\n",
        "    predicted_words = []\n",
        "\n",
        "    for pred in preds[0, -num_words:]:\n",
        "        for key, value in tokenizer.word_index.items():\n",
        "            if value == pred:\n",
        "                predicted_words.append(key)\n",
        "                break\n",
        "\n",
        "    return predicted_words\n",
        "\n",
        "model = load_model('next_words.h5')\n",
        "tokenizer = pickle.load(open('token.pkl', 'rb'))\n",
        "\n",
        "predicted_words = Predict_Next_Words(model, tokenizer, 'input_text', num_words=5)\n",
        "print(predicted_words)\n"
      ],
      "metadata": {
        "id": "qOG_virdiMfA",
        "colab": {
          "base_uri": "https://localhost:8080/"
        },
        "outputId": "c0a5ece9-dbd0-49b8-b73c-5ca9f21368e3"
      },
      "execution_count": 18,
      "outputs": [
        {
          "output_type": "stream",
          "name": "stdout",
          "text": [
            "1/1 [==============================] - 1s 932ms/step\n",
            "['but', 'to', 'as', '”', 'and']\n"
          ]
        }
      ]
    },
    {
      "cell_type": "code",
      "source": [],
      "metadata": {
        "id": "WDyxh21QiNK0"
      },
      "execution_count": null,
      "outputs": []
    },
    {
      "cell_type": "code",
      "source": [],
      "metadata": {
        "id": "188o-g_XiNMb"
      },
      "execution_count": null,
      "outputs": []
    },
    {
      "cell_type": "code",
      "source": [],
      "metadata": {
        "id": "zXkCfyVTiNPz"
      },
      "execution_count": null,
      "outputs": []
    }
  ]
}